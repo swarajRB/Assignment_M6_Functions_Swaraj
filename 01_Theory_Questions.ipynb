{
 "cells": [
  {
   "cell_type": "markdown",
   "metadata": {},
   "source": [
    "### Q.1 What is the difference between a function and a method in Python?"
   ]
  },
  {
   "cell_type": "markdown",
   "metadata": {},
   "source": [
    "Function :\n",
    "* Function is a block of code which performs some specific task or computations independently\n",
    "* Functions(code) are reusable ,neat, clean and organized, saves your time as well\n",
    "* Syntax: Functions are defined using the \"def\" keyword, followed by the function name and parentheses and you can use return statement as well."
   ]
  },
  {
   "cell_type": "code",
   "execution_count": 1,
   "metadata": {},
   "outputs": [
    {
     "name": "stdout",
     "output_type": "stream",
     "text": [
      "Welcome to the Office\n"
     ]
    }
   ],
   "source": [
    "# example of function--\n",
    "def greetings(): \n",
    "    return(\"Welcome to the Office\")\n",
    "\n",
    "print(greetings())"
   ]
  },
  {
   "cell_type": "markdown",
   "metadata": {},
   "source": [
    "Method :\n",
    "* A method is similar to a function, but it is associated with an object. \n",
    "* Methods are functions that are defined within a class and are intended to operate on instances of that class.\n",
    "* Syntax: Methods are also defined using the \"def\" keyword, but they must be defined within a class. The first parameter is typically \"self\", which refers to the instance of the class. Example:"
   ]
  },
  {
   "cell_type": "code",
   "execution_count": 2,
   "metadata": {},
   "outputs": [
    {
     "name": "stdout",
     "output_type": "stream",
     "text": [
      "This is a method.\n"
     ]
    }
   ],
   "source": [
    "# example of method--\n",
    "class MyClass:\n",
    "    def my_method(self):\n",
    "        print(\"This is a method.\")\n",
    "\n",
    "method = MyClass()\n",
    "method.my_method()"
   ]
  },
  {
   "cell_type": "markdown",
   "metadata": {},
   "source": [
    "### Q.2 Explain the concept of function arguments and parameters in Python.\n"
   ]
  },
  {
   "cell_type": "markdown",
   "metadata": {},
   "source": [
    "In Python, the terms arguments and parameters are often used interchangeably, but they refer to different aspects of how functions are defined and called.\n",
    "\n",
    "Parameters :\n",
    "* Parameters are the variables listed inside the parentheses in the function definition. They act as placeholders for the values that will be passed to the function when it is called.\n",
    "* Parameters define what kind of data the function expects to receive when it's invoked.\n",
    "\n",
    "Arguments :\n",
    "\n",
    "* Arguments are the actual values or data that you pass to the function when you call it. These values are assigned to the corresponding parameters in the function.\n",
    "* Arguments provide the data that the function needs to operate on when it is called."
   ]
  },
  {
   "cell_type": "code",
   "execution_count": 3,
   "metadata": {},
   "outputs": [
    {
     "name": "stdout",
     "output_type": "stream",
     "text": [
      "8\n"
     ]
    }
   ],
   "source": [
    "# example of parameter and argument\n",
    "\n",
    "def add(a, b):  # here in this function 'a' and 'b' are parameters\n",
    "    return a + b\n",
    "\n",
    "result = add(3, 5)  # here the 3 and 5 are arguments\n",
    "print(result)  # Output: 8\n"
   ]
  },
  {
   "cell_type": "markdown",
   "metadata": {},
   "source": [
    "\n",
    "### Q.3 What are the different ways to define and call a function in Python?\n",
    "\n",
    "In Python, functions can be defined and called in various ways depending on the requirements\n"
   ]
  },
  {
   "cell_type": "markdown",
   "metadata": {},
   "source": [
    "1. Regular Function : A typical function with a name and parameters.\n"
   ]
  },
  {
   "cell_type": "code",
   "execution_count": 4,
   "metadata": {},
   "outputs": [
    {
     "name": "stdout",
     "output_type": "stream",
     "text": [
      "Welcome the office Swaraj\n"
     ]
    }
   ],
   "source": [
    "#Example\n",
    "def greetings(name): # passing a variable inside a function >> name >> posuitional arguement\n",
    "   print (\"Welcome the office\",name)\n",
    "\n",
    "# calling the function\n",
    "greetings(\"Swaraj\") # output : Welcome the office Swaraj\n"
   ]
  },
  {
   "cell_type": "markdown",
   "metadata": {},
   "source": [
    "2. Default Arguments : \n",
    "Functions can have default parameter values.You can provide default values for function parameters. If an argument isn't passed when calling the function, the default value is used"
   ]
  },
  {
   "cell_type": "code",
   "execution_count": 5,
   "metadata": {},
   "outputs": [
    {
     "name": "stdout",
     "output_type": "stream",
     "text": [
      "0\n",
      "6\n"
     ]
    }
   ],
   "source": [
    "# example\n",
    "# Function to find sum of 3 numbers\n",
    "def sum(a=0, b=0,c=0):\n",
    "    return a+b+c\n",
    "print(sum()) # it will show the default value : 0\n",
    "\n",
    "# calling the function with arguments\n",
    "print(sum(1,2,3)) # output : 6"
   ]
  },
  {
   "cell_type": "markdown",
   "metadata": {},
   "source": [
    "3. Variable length args :\n",
    "\n",
    "Variable-length arguments refer to the ability of a function to accept a variable number of arguments.\n",
    "\n",
    "There are two types of variable-length arguments: *args and **kwargs."
   ]
  },
  {
   "cell_type": "code",
   "execution_count": 6,
   "metadata": {},
   "outputs": [
    {
     "data": {
      "text/plain": [
       "15"
      ]
     },
     "execution_count": 6,
     "metadata": {},
     "output_type": "execute_result"
    }
   ],
   "source": [
    "# Example >> *args\n",
    "# a function which can take any number of values and return the sum\n",
    "def sum(*args):\n",
    "    s = 0\n",
    "    for i in args:\n",
    "        s = s+i\n",
    "\n",
    "    return s\n",
    "\n",
    "# calling the function\n",
    "sum(1,2,3,4,5) #Output : 15"
   ]
  },
  {
   "cell_type": "code",
   "execution_count": 7,
   "metadata": {},
   "outputs": [
    {
     "data": {
      "text/plain": [
       "[30, 45, 37]"
      ]
     },
     "execution_count": 7,
     "metadata": {},
     "output_type": "execute_result"
    }
   ],
   "source": [
    "# example >> **kargs\n",
    "\n",
    "def marks_in_subject(**kwargs):\n",
    "    marks_list = []\n",
    "    for sub, marks in kwargs.items():\n",
    "        marks_list.append(marks)\n",
    "\n",
    "    return marks_list\n",
    "\n",
    "# calling the function\n",
    "marks_in_subject(a=30, b=45 , c=37)\n"
   ]
  },
  {
   "cell_type": "markdown",
   "metadata": {},
   "source": [
    "### Q.4 What is the purpose of the `return` statement in a Python function?\n",
    "\n",
    "The return statement in Python serves two primary purposes:\n",
    "\n",
    "1. Exiting a Function: The primary purpose of return is to provide an output from the function, which can then be used or stored by the code that called the function.\n",
    "The return statement also immediately terminates the execution of the function. Any code after the return statement will not be executed.\n",
    "\n",
    "2. Passing Back Values: It allows a function to send data back to the calling code. This data can be a single value or multiple values packaged in a tuple, list, or dictionary.\n",
    "\n",
    "Return statements can return data of any type, including integers, floats, strings, lists, dictionaries, and even other functions.\n",
    "\n"
   ]
  },
  {
   "cell_type": "code",
   "execution_count": 8,
   "metadata": {},
   "outputs": [
    {
     "name": "stdout",
     "output_type": "stream",
     "text": [
      "7\n"
     ]
    }
   ],
   "source": [
    "# Example\n",
    "\n",
    "def add(a, b):\n",
    "    return a + b\n",
    "\n",
    "result = add(3, 4)\n",
    "print(result)  # Output: 7\n"
   ]
  },
  {
   "cell_type": "code",
   "execution_count": 9,
   "metadata": {},
   "outputs": [
    {
     "name": "stdout",
     "output_type": "stream",
     "text": [
      "True\n"
     ]
    }
   ],
   "source": [
    "def check_even(number):\n",
    "    if number % 2 == 0:\n",
    "        return True\n",
    "    return False\n",
    "\n",
    "print(check_even(4))  # Output: True"
   ]
  },
  {
   "cell_type": "markdown",
   "metadata": {},
   "source": [
    "### Q.5 What are iterators in Python and how do they differ from iterables?\n"
   ]
  },
  {
   "cell_type": "markdown",
   "metadata": {},
   "source": [
    "In Python, iterators are objects that allow you to traverse through all the elements of a collection, one element at a time.\n",
    "* An iterator must implement two methods: __ iter__()  (returns the iterator object itself) and __ next__() (returns the next element).\n",
    "* Iterators are consumed as they are used.\n",
    "\n",
    "\n",
    "* Iterables >> are objects that can return an iterator, meaning they can be looped over (e.g., lists, tuples).\n",
    "* An iterable has an __ iter __() method that returns an iterator."
   ]
  },
  {
   "cell_type": "code",
   "execution_count": 10,
   "metadata": {},
   "outputs": [
    {
     "name": "stdout",
     "output_type": "stream",
     "text": [
      "1\n",
      "2\n"
     ]
    }
   ],
   "source": [
    "#example\n",
    "# Iterable\n",
    "my_list = [1, 2, 3]\n",
    "\n",
    "# Getting an iterator from an iterable\n",
    "my_iter = iter(my_list)\n",
    "\n",
    "print(next(my_iter))  # Output: 1\n",
    "print(next(my_iter))  # Output: 2\n"
   ]
  },
  {
   "cell_type": "markdown",
   "metadata": {},
   "source": [
    "### Q.6 Explain the concept of generators in Python and how they are defined.\n"
   ]
  },
  {
   "cell_type": "markdown",
   "metadata": {},
   "source": [
    "In Python, generators are a type of iterator that generate values one at a time, as needed, using the **yield** keyword instead of **return**. They allow you to iterate through potentially large datasets without loading everything into memory at once.\n",
    "\n",
    "\n",
    "How to Define a Generator:\n",
    "\n",
    "A generator is typically defined using a function that contains one or more yield statements.\n"
   ]
  },
  {
   "cell_type": "code",
   "execution_count": 11,
   "metadata": {},
   "outputs": [
    {
     "name": "stdout",
     "output_type": "stream",
     "text": [
      "1\n",
      "2\n"
     ]
    }
   ],
   "source": [
    "def my_generator():\n",
    "    yield 1\n",
    "    yield 2\n",
    "    yield 3\n",
    "\n",
    "gen = my_generator()\n",
    "\n",
    "print(next(gen))  # Output: 1\n",
    "print(next(gen))  # Output: 2\n",
    "# this generator function that produces values lazily, one at a time, using `yield`."
   ]
  },
  {
   "cell_type": "code",
   "execution_count": null,
   "metadata": {},
   "outputs": [],
   "source": []
  },
  {
   "cell_type": "markdown",
   "metadata": {},
   "source": [
    "### Q.7 What are the advantages of using generators over regular functions?\n",
    "\n",
    "\n",
    "Advantages of using generators over regular functions:\n",
    "\n",
    "* Generators produce items one at a time, so they use less memory, especially for large datasets.\n",
    "* Values are computed only when requested, which improves performance when handling large data.\n",
    "* Generators allow you to write more concise code for producing sequences of values, avoiding the need for manual state management (e.g., with loops)."
   ]
  },
  {
   "cell_type": "code",
   "execution_count": 12,
   "metadata": {},
   "outputs": [
    {
     "name": "stdout",
     "output_type": "stream",
     "text": [
      "0\n",
      "1\n"
     ]
    }
   ],
   "source": [
    "# Example of generator function\n",
    "\n",
    "def func():\n",
    "    for x in range(5):\n",
    "        yield x * x  # Yields values one by one\n",
    "\n",
    "gen = func()\n",
    "print(next(gen)) \n",
    "print(next(gen))  \n",
    "\n",
    "# where general functions produce all the values at time , generator produce one value at a time"
   ]
  },
  {
   "cell_type": "markdown",
   "metadata": {},
   "source": [
    "### Q.8  What is a lambda function in Python and when is it typically used?\n",
    "\n",
    "* A lambda function in Python is a small, anonymous function defined with the lambda keyword.\n",
    "* It can take any number of arguments but has only one expression. \n",
    "* Lambda functions are typically used when a short, throwaway function is needed, such as in sorting, filtering, or mapping operations.\n",
    "\n",
    "\n"
   ]
  },
  {
   "cell_type": "code",
   "execution_count": 13,
   "metadata": {},
   "outputs": [
    {
     "name": "stdout",
     "output_type": "stream",
     "text": [
      "6\n",
      "11\n"
     ]
    },
    {
     "data": {
      "text/plain": [
       "4"
      ]
     },
     "execution_count": 13,
     "metadata": {},
     "output_type": "execute_result"
    }
   ],
   "source": [
    "# Lambda function to add 1 to a number\n",
    "add = lambda x: x + 1\n",
    "\n",
    "print(add(5))  #output: 6\n",
    "print(add(10)) #outout : 11\n",
    "\n",
    "\n",
    "# Lambda funtion to define the squae of a number\n",
    "\n",
    "def sq(x):\n",
    "    return x**2\n",
    "sq(2) #output : 4"
   ]
  },
  {
   "cell_type": "markdown",
   "metadata": {},
   "source": [
    "### Q.9 Explain the purpose and usage of the `map()` function in Python.\n",
    "\n",
    "* Map function  >> executes a specified function  for each item for of an iterable \n",
    "It is used to transform or process elements of an iterable without using an explicit loop.\n",
    "\n",
    "* syntax >> map (func , *itreables) \n"
   ]
  },
  {
   "cell_type": "code",
   "execution_count": 14,
   "metadata": {},
   "outputs": [
    {
     "data": {
      "text/plain": [
       "[11, 12, 13, 14, 15]"
      ]
     },
     "execution_count": 14,
     "metadata": {},
     "output_type": "execute_result"
    }
   ],
   "source": [
    "# Example of adding 10  to a numbers of a list \n",
    "l = [1, 2, 3, 4, 5]\n",
    "\n",
    "def add(x):\n",
    "    return x+10\n",
    "list(map(add,l))\n",
    "#output : [11, 12, 13, 14, 15]"
   ]
  },
  {
   "cell_type": "markdown",
   "metadata": {},
   "source": [
    "### Q.10 What is the difference between `map()`, `reduce()`, and `filter()` functions in Python?\n"
   ]
  },
  {
   "cell_type": "code",
   "execution_count": 15,
   "metadata": {},
   "outputs": [
    {
     "name": "stdout",
     "output_type": "stream",
     "text": [
      "[1, 4, 9, 16]\n"
     ]
    }
   ],
   "source": [
    "# 1. map(): Applies a function to each item in an iterable and returns the result for each item.\n",
    "\n",
    "# example\n",
    "\n",
    "nums = [1, 2, 3, 4]\n",
    "sq_num = list(map(lambda x: x * x, nums))\n",
    "print(sq_num)  # Output: [1, 4, 9, 16]\n"
   ]
  },
  {
   "cell_type": "code",
   "execution_count": 16,
   "metadata": {},
   "outputs": [
    {
     "name": "stdout",
     "output_type": "stream",
     "text": [
      "10\n"
     ]
    }
   ],
   "source": [
    "# 2. reduce() : Applies a function to pairs of items in an iterable, reducing it to a single cumulative value.\n",
    "#example\n",
    "from functools import reduce\n",
    "nums = [1, 2, 3, 4]\n",
    "add = reduce(lambda x, y: x + y, nums)\n",
    "print(add)  #output: 10\n",
    "\n"
   ]
  },
  {
   "cell_type": "code",
   "execution_count": 17,
   "metadata": {},
   "outputs": [
    {
     "name": "stdout",
     "output_type": "stream",
     "text": [
      "[2, 4, 6]\n"
     ]
    }
   ],
   "source": [
    "# 3. filter(): Filters elements in an iterable based on a function that returns True or False.\n",
    "\n",
    "# example\n",
    "num_lis = [1, 2, 3, 4,5,6]\n",
    "even = list(filter(lambda x: x % 2 == 0, num_lis))\n",
    "print(even)  #output: [2, 4, 6]\n",
    "\n"
   ]
  },
  {
   "attachments": {
    "0.jpg": {
     "image/jpeg": "[encoded data removed]"
    }
   },
   "cell_type": "markdown",
   "metadata": {},
   "source": [
    "### Q.11 Using pen & Paper write the internal mechanism for sum operation using  reduce function on this given  list:[47,11,42,13]; \n",
    "\n",
    "\n",
    "\n",
    "![0.jpg](attachment:0.jpg)\n"
   ]
  }
 ],
 "metadata": {
  "kernelspec": {
   "display_name": "Python 3",
   "language": "python",
   "name": "python3"
  },
  "language_info": {
   "codemirror_mode": {
    "name": "ipython",
    "version": 3
   },
   "file_extension": ".py",
   "mimetype": "text/x-python",
   "name": "python",
   "nbconvert_exporter": "python",
   "pygments_lexer": "ipython3",
   "version": "3.12.4"
  }
 },
 "nbformat": 4,
 "nbformat_minor": 2
}
