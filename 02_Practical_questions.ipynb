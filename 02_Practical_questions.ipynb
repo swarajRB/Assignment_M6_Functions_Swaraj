{
 "cells": [
  {
   "cell_type": "markdown",
   "metadata": {},
   "source": [
    "## Practical questions and answers"
   ]
  },
  {
   "cell_type": "code",
   "execution_count": 1,
   "metadata": {},
   "outputs": [
    {
     "name": "stdout",
     "output_type": "stream",
     "text": [
      "12\n"
     ]
    }
   ],
   "source": [
    "# 1. Write a Python function that takes a list of numbers as input and returns the sum of all even numbers in the list\n",
    "def sum_even(numbers=[]):\n",
    "    return sum(num for num in numbers if num % 2 == 0)\n",
    "\n",
    "\n",
    "num_list = [1, 2, 3, 4, 5, 6]\n",
    "\n",
    "result = sum_even(num_list)\n",
    "print(result) \n"
   ]
  },
  {
   "cell_type": "code",
   "execution_count": 2,
   "metadata": {},
   "outputs": [
    {
     "name": "stdout",
     "output_type": "stream",
     "text": [
      "jarawS\n"
     ]
    }
   ],
   "source": [
    "# 2. Create a Python function that accepts a string and returns the reverse of that string.\n",
    "\n",
    "def rev_str(s):\n",
    "    return s[::-1]\n",
    "\n",
    "# Example usage:\n",
    "result = rev_str(\"Swaraj\")\n",
    "print(result)  # Output will be : jarawS\n"
   ]
  },
  {
   "cell_type": "code",
   "execution_count": 3,
   "metadata": {},
   "outputs": [
    {
     "data": {
      "text/plain": [
       "[1, 4, 9, 16, 25]"
      ]
     },
     "execution_count": 3,
     "metadata": {},
     "output_type": "execute_result"
    }
   ],
   "source": [
    "# 3.Implement a Python function that takes a list of integers and returns a new list containing the squares of each number.\n",
    "\n",
    "l = [1, 2, 3, 4, 5]\n",
    "def squre(l):\n",
    "    sq = []\n",
    "    for i in l:\n",
    "        sq.append(i**2)\n",
    "    return sq\n",
    "squre(l) #Output : [1, 4, 9, 16, 25]\n",
    "\n",
    "        "
   ]
  },
  {
   "cell_type": "code",
   "execution_count": 4,
   "metadata": {},
   "outputs": [
    {
     "name": "stdout",
     "output_type": "stream",
     "text": [
      "True\n"
     ]
    }
   ],
   "source": [
    "#4. Write a Python function that checks if a given number is prime or not from 1 to 200. \n",
    "\n",
    "def is_prime(n):\n",
    "    if n <=1:\n",
    "        return False\n",
    "    if n <=3:\n",
    "        return True\n",
    "    if n % 2 ==0 or n % 3 == 0:\n",
    "        return False\n",
    "    i = 5 \n",
    "    while i*i <= n:\n",
    "        if n % i == 0 or n % (i + 2) == 0 :\n",
    "            return False\n",
    "        i += 6\n",
    "    return True\n",
    "\n",
    "# check\n",
    "num = 97\n",
    "print(is_prime(num))\n"
   ]
  },
  {
   "cell_type": "code",
   "execution_count": 5,
   "metadata": {},
   "outputs": [
    {
     "data": {
      "text/plain": [
       "[0, 1, 1, 2, 3, 5, 8, 13, 21, 34]"
      ]
     },
     "execution_count": 5,
     "metadata": {},
     "output_type": "execute_result"
    }
   ],
   "source": [
    "# 5. Create an iterator class in Python that generates the Fibonacci sequence up to a specified number of terms.\n",
    "\n",
    "# fibonacci sequence\n",
    "fib = lambda n: n if n<=1 else fib(n-1)+fib(n-2) # using lambda function\n",
    "\n",
    "[fib(i) for i in range(10)] #here the the sequence goes upto 10 number of terms,\n",
    "#output :  [0, 1, 1, 2, 3, 5, 8, 13, 21, 34]"
   ]
  },
  {
   "cell_type": "code",
   "execution_count": 6,
   "metadata": {},
   "outputs": [
    {
     "name": "stdout",
     "output_type": "stream",
     "text": [
      "1\n",
      "2\n",
      "4\n",
      "8\n",
      "16\n",
      "32\n"
     ]
    }
   ],
   "source": [
    "#  6. Write a generator function in Python that yields the powers of 2 up to a given exponent.\n",
    "\n",
    "def powers_of_two(max_exponent):\n",
    "    exponent = 0\n",
    "    while exponent <= max_exponent:\n",
    "        yield 2 ** exponent\n",
    "        exponent += 1\n",
    "\n",
    "\n",
    "# Example: Generate powers of 2 up to 2^5\n",
    "for power in powers_of_two(5):\n",
    "    print(power)\n"
   ]
  },
  {
   "cell_type": "code",
   "execution_count": null,
   "metadata": {},
   "outputs": [],
   "source": [
    "# Q 7. Implement a generator function that reads a file line by line and yields each line as a string.\n",
    "\n",
    "def file_line_reader(file_path):\n",
    "    with open(file_path, 'r') as file:\n",
    "        for line in file:\n",
    "            yield line.strip()\n",
    "\n",
    "# Example usage\n",
    "file_path = \"exaple.txt\"\n",
    "\n",
    "\n",
    "for line in file_line_reader(file_path):\n",
    "    print(line)"
   ]
  },
  {
   "cell_type": "code",
   "execution_count": 8,
   "metadata": {},
   "outputs": [
    {
     "name": "stdout",
     "output_type": "stream",
     "text": [
      "[(4, 3, 5), (7, 7, 3), (4, 8, 2), (1, 9, 2)]\n"
     ]
    }
   ],
   "source": [
    "# Q. 8. Use a lambda function in Python to sort a list of tuples based on the second element of each tuple.\n",
    "\n",
    "# sample list of tuples \n",
    "tup_list = [(1,9,2),(4,8,2),(7,7,3),(4,3,5)]\n",
    "sorted_list = sorted(tup_list,key=lambda x:x[1])\n",
    "\n",
    "print(sorted_list) #Output : [(4, 3, 5), (7, 7, 3), (4, 8, 2), (1, 9, 2)]"
   ]
  },
  {
   "cell_type": "code",
   "execution_count": 9,
   "metadata": {},
   "outputs": [
    {
     "name": "stdout",
     "output_type": "stream",
     "text": [
      "[32.0, 68.0, 98.6, 93.2, 152.6, 210.2]\n"
     ]
    }
   ],
   "source": [
    "# Q.9 Write a Python program that uses `map()` to convert a list of temperatures from Celsius to Fahrenheit.\n",
    "\n",
    "# List of temperatures in Celsius\n",
    "temp_cel = [0, 20, 37, 34,67,99]\n",
    "\n",
    "# Conversion formula: Fahrenheit = (Celsius * 9/5) + 32\n",
    "print(list(map(lambda c: (c * 9/5) + 32, temp_cel)))\n"
   ]
  },
  {
   "cell_type": "code",
   "execution_count": 10,
   "metadata": {},
   "outputs": [
    {
     "name": "stdout",
     "output_type": "stream",
     "text": [
      "The filtred strung is:  m Swrj,  hv  ppl\n"
     ]
    }
   ],
   "source": [
    "# Q 10. Create a Python program that uses `filter()` to remove all the vowels from a given string.\n",
    "\n",
    "str = \"I am Swaraj, i have a apple\"\n",
    "\n",
    "# Define a function that returns True if a character is not a vowel\n",
    "vowels = lambda char: char.lower() not in 'aeiouAEIOU'\n",
    "\n",
    "# Use filter() to remove vowels\n",
    "filt_str = ''.join(filter(vowels, str))\n",
    "\n",
    "print(\"The filtred strung is:\",filt_str)\n"
   ]
  },
  {
   "cell_type": "markdown",
   "metadata": {},
   "source": [
    "Q.11\n",
    "![alt text](download.png)"
   ]
  },
  {
   "cell_type": "code",
   "execution_count": 11,
   "metadata": {},
   "outputs": [
    {
     "name": "stdout",
     "output_type": "stream",
     "text": [
      "[('34587', 163.8), ('98762', 284.0), ('77226', 108.85000000000001), ('88112', 84.97)]\n"
     ]
    }
   ],
   "source": [
    "orders = [ [\"34587\", \"Learning Python, Mark Lutz\", 4, 40.95],\n",
    "    [\"98762\", \"Programming Python, Mark Lutz\", 5, 56.80],\n",
    "    [\"77226\", \"Head First Python, Paul Barry\", 3, 32.95],\n",
    "    [\"88112\", \"Einfuhrung in Python3, Bernd Klein\", 3, 24.99]\n",
    "         ]\n",
    "# Calculate the product of price per item and quantity for each order\n",
    "order_totals = list(map(lambda x: (x[0], x[2] * x[3]), orders))\n",
    "\n",
    "# Define the minimum order value (100 €)\n",
    "min_order = 100\n",
    "\n",
    "\n",
    "# Adjust the order totals based on the condition\n",
    "invoice_totals = list(map(lambda x: x if x[1] >= min_order else (x[0], x[1] +10), order_totals))\n",
    "\n",
    "print(invoice_totals)"
   ]
  }
 ],
 "metadata": {
  "kernelspec": {
   "display_name": "Python 3",
   "language": "python",
   "name": "python3"
  },
  "language_info": {
   "codemirror_mode": {
    "name": "ipython",
    "version": 3
   },
   "file_extension": ".py",
   "mimetype": "text/x-python",
   "name": "python",
   "nbconvert_exporter": "python",
   "pygments_lexer": "ipython3",
   "version": "3.12.4"
  }
 },
 "nbformat": 4,
 "nbformat_minor": 2
}
